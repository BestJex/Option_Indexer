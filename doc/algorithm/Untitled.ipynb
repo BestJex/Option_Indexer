{
 "cells": [
  {
   "attachments": {},
   "cell_type": "markdown",
   "metadata": {},
   "source": [
    "# 算法介绍\n",
    "## 流程图\n",
    "### 一. 期权组合\n",
    "从[数据库]( \"由爬虫从大商所网站取得\")取出期权, 检验协整性, 存入相关数据待用, 图表见下:\n",
    "![1-1](res/flowchart1.png \"FlowChart1-1\")\n",
    "\n",
    "代码实现:"
   ]
  },
  {
   "cell_type": "code",
   "execution_count": 1,
   "metadata": {},
   "outputs": [],
   "source": [
    "%matplotlib inline\n",
    "import env_init\n",
    "import test"
   ]
  },
  {
   "cell_type": "markdown",
   "metadata": {},
   "source": [
    "## 二.套利阈值"
   ]
  }
 ],
 "metadata": {
  "kernelspec": {
   "display_name": "Python 3",
   "language": "python",
   "name": "python3"
  },
  "language_info": {
   "codemirror_mode": {
    "name": "ipython",
    "version": 3
   },
   "file_extension": ".py",
   "mimetype": "text/x-python",
   "name": "python",
   "nbconvert_exporter": "python",
   "pygments_lexer": "ipython3",
   "version": "3.5.3"
  }
 },
 "nbformat": 4,
 "nbformat_minor": 2
}
